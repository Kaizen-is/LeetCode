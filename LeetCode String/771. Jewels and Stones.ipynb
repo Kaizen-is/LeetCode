{
  "nbformat": 4,
  "nbformat_minor": 0,
  "metadata": {
    "colab": {
      "provenance": []
    },
    "kernelspec": {
      "name": "python3",
      "display_name": "Python 3"
    },
    "language_info": {
      "name": "python"
    }
  },
  "cells": [
    {
      "cell_type": "markdown",
      "source": [
        "### 771. Jewels and Stones"
      ],
      "metadata": {
        "id": "qZmfizEMqZJc"
      }
    },
    {
      "cell_type": "markdown",
      "source": [
        "You're given strings jewels representing the types of stones that are jewels, and stones representing the stones you have. Each character in stones is a type of stone you have. You want to know how many of the stones you have are also jewels.\n",
        "\n",
        "Letters are case sensitive, so \"a\" is considered a different type of stone from \"A\".\n",
        "\n",
        "\n",
        "\n",
        "Example 1:\n",
        "\n",
        "Input: jewels = \"aA\", stones = \"aAAbbbb\"\n",
        "Output: 3\n",
        "Example 2:\n",
        "\n",
        "Input: jewels = \"z\", stones = \"ZZ\"\n",
        "Output: 0"
      ],
      "metadata": {
        "id": "APpzfqI-qg6a"
      }
    },
    {
      "cell_type": "code",
      "source": [
        "class Solution:\n",
        "    def numJewelsInStones(self, jewels: str, stones: str) -> int:\n",
        "        k = 0\n",
        "        jw = []\n",
        "        for i in range(len(jewels)):\n",
        "            jw.append(jewels[i])\n",
        "\n",
        "        st = []\n",
        "        for i in range(len(stones)):\n",
        "            st.append(stones[i])\n",
        "\n",
        "        for i in range(len(st)):\n",
        "            if st[i] in jw:\n",
        "                k += 1\n",
        "\n",
        "        return k"
      ],
      "metadata": {
        "id": "Jpuo1qSyqlWJ"
      },
      "execution_count": null,
      "outputs": []
    }
  ]
}
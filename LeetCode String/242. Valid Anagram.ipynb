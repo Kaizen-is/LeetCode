{
  "nbformat": 4,
  "nbformat_minor": 0,
  "metadata": {
    "colab": {
      "provenance": []
    },
    "kernelspec": {
      "name": "python3",
      "display_name": "Python 3"
    },
    "language_info": {
      "name": "python"
    }
  },
  "cells": [
    {
      "cell_type": "markdown",
      "source": [
        "### 242. Valid Anagram"
      ],
      "metadata": {
        "id": "qZmfizEMqZJc"
      }
    },
    {
      "cell_type": "markdown",
      "source": [
        "\n",
        "Given two strings s and t, return true if t is an anagram of s, and false otherwise.\n",
        "\n",
        "\n",
        "\n",
        "Example 1:\n",
        "\n",
        "Input: s = \"anagram\", t = \"nagaram\"\n",
        "\n",
        "Output: true\n",
        "\n",
        "Example 2:\n",
        "\n",
        "Input: s = \"rat\", t = \"car\"\n",
        "\n",
        "Output: false"
      ],
      "metadata": {
        "id": "APpzfqI-qg6a"
      }
    },
    {
      "cell_type": "code",
      "source": [
        "class Solution:\n",
        "    def isAnagram(self, s: str, t: str) -> bool:\n",
        "        list_s = []\n",
        "        for i in range(len(s)):\n",
        "            list_s.append(s[i])\n",
        "        list_s.sort()\n",
        "\n",
        "        list_t = []\n",
        "        for j in range(len(t)):\n",
        "            list_t.append(t[j])\n",
        "        list_t.sort()\n",
        "\n",
        "        return ''.join(list_s) == ''.join(list_t)\n",
        "\n",
        "\n",
        "        # return Counter(s) == Counter(t)\n",
        "\n",
        "        # or just\n",
        "\n",
        "        # return sorted(s) == sorted(t)"
      ],
      "metadata": {
        "id": "Jpuo1qSyqlWJ"
      },
      "execution_count": null,
      "outputs": []
    }
  ]
}
{
  "nbformat": 4,
  "nbformat_minor": 0,
  "metadata": {
    "colab": {
      "provenance": []
    },
    "kernelspec": {
      "name": "python3",
      "display_name": "Python 3"
    },
    "language_info": {
      "name": "python"
    }
  },
  "cells": [
    {
      "cell_type": "markdown",
      "source": [
        "### 1816. Truncate Sentence"
      ],
      "metadata": {
        "id": "qZmfizEMqZJc"
      }
    },
    {
      "cell_type": "markdown",
      "source": [
        "A sentence is a list of words that are separated by a single space with no leading or trailing spaces. Each of the words consists of only uppercase and lowercase English letters (no punctuation).\n",
        "\n",
        "For example, \"Hello World\", \"HELLO\", and \"hello world hello world\" are all sentences.\n",
        "You are given a sentence s​​​​​​ and an integer k​​​​​​. You want to truncate s​​​​​​ such that it contains only the first k​​​​​​ words. Return s​​​​​​ after truncating it.\n",
        "\n",
        "\n",
        "\n",
        "Example 1:\n",
        "\n",
        "Input: s = \"Hello how are you Contestant\", k = 4\n",
        "Output: \"Hello how are you\"\n",
        "Explanation:\n",
        "The words in s are [\"Hello\", \"how\" \"are\", \"you\", \"Contestant\"].\n",
        "The first 4 words are [\"Hello\", \"how\", \"are\", \"you\"].\n",
        "Hence, you should return \"Hello how are you\".\n",
        "Example 2:\n",
        "\n",
        "Input: s = \"What is the solution to this problem\", k = 4\n",
        "Output: \"What is the solution\"\n",
        "Explanation:\n",
        "The words in s are [\"What\", \"is\" \"the\", \"solution\", \"to\", \"this\", \"problem\"].\n",
        "The first 4 words are [\"What\", \"is\", \"the\", \"solution\"].\n",
        "Hence, you should return \"What is the solution\".\n",
        "Example 3:\n",
        "\n",
        "Input: s = \"chopper is not a tanuki\", k = 5\n",
        "Output: \"chopper is not a tanuki\""
      ],
      "metadata": {
        "id": "APpzfqI-qg6a"
      }
    },
    {
      "cell_type": "code",
      "source": [
        "class Solution:\n",
        "    def truncateSentence(self, s: str, k: int) -> str:\n",
        "        count = 0\n",
        "        for i in range(len(s)):\n",
        "            if s[i] == ' ':\n",
        "                if count == k - 1:\n",
        "                    return s[:i]\n",
        "                count += 1\n",
        "        return s"
      ],
      "metadata": {
        "id": "Jpuo1qSyqlWJ"
      },
      "execution_count": null,
      "outputs": []
    }
  ]
}
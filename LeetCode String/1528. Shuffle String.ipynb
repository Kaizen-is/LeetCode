{
  "nbformat": 4,
  "nbformat_minor": 0,
  "metadata": {
    "colab": {
      "provenance": []
    },
    "kernelspec": {
      "name": "python3",
      "display_name": "Python 3"
    },
    "language_info": {
      "name": "python"
    }
  },
  "cells": [
    {
      "cell_type": "markdown",
      "source": [
        "### 1528. Shuffle String"
      ],
      "metadata": {
        "id": "qZmfizEMqZJc"
      }
    },
    {
      "cell_type": "markdown",
      "source": [
        "You are given a string s and an integer array indices of the same length. The string s will be shuffled such that the character at the ith position moves to indices[i] in the shuffled string.\n",
        "\n",
        "Input: s = \"codeleet\", indices = [4,5,6,7,0,2,1,3]\n",
        "Output: \"leetcode\"\n",
        "Explanation: As shown, \"codeleet\" becomes \"leetcode\" after shuffling.\n",
        "Example 2:\n",
        "\n",
        "Input: s = \"abc\", indices = [0,1,2]\n",
        "Output: \"abc\"\n",
        "Explanation: After shuffling, each character remains in its position."
      ],
      "metadata": {
        "id": "APpzfqI-qg6a"
      }
    },
    {
      "cell_type": "code",
      "source": [
        "s = \"codeleet\"\n",
        "indices = [4,5,6,7,0,2,1,3]\n",
        "st = {}\n",
        "for i in range(len(s)):\n",
        "    st[indices[i]] = s[i]\n",
        "st\n",
        "res = []\n",
        "for i in range(len(indices)):\n",
        "  for k, v in st.items():\n",
        "    if i == k:\n",
        "      res.append(v)\n",
        "print(res)\n",
        "\n",
        "\n"
      ],
      "metadata": {
        "colab": {
          "base_uri": "https://localhost:8080/"
        },
        "id": "s5LbHhZ-Os3W",
        "outputId": "cf624c21-17cd-4272-8155-6f0fd43627eb"
      },
      "execution_count": 17,
      "outputs": [
        {
          "output_type": "stream",
          "name": "stdout",
          "text": [
            "['l', 'e', 'e', 't', 'c', 'o', 'd', 'e']\n"
          ]
        }
      ]
    }
  ]
}
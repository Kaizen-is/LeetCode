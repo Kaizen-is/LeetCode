{
  "nbformat": 4,
  "nbformat_minor": 0,
  "metadata": {
    "colab": {
      "provenance": []
    },
    "kernelspec": {
      "name": "python3",
      "display_name": "Python 3"
    },
    "language_info": {
      "name": "python"
    }
  },
  "cells": [
    {
      "cell_type": "markdown",
      "source": [
        "### LeetCode"
      ],
      "metadata": {
        "id": "AHJbdeGfoE1v"
      }
    },
    {
      "cell_type": "markdown",
      "source": [
        "### 3. Longest Substring Without Repeating Characters"
      ],
      "metadata": {
        "id": "tkEco9PeprYR"
      }
    },
    {
      "cell_type": "markdown",
      "source": [
        "Given a string s, find the length of the longest substring without duplicate characters.\n",
        "\n",
        "Example 1:\n",
        "\n",
        "Input: s = \"abcabcbb\"\n",
        "Output: 3\n",
        "Explanation: The answer is \"abc\", with the length of 3.\n",
        "Example 2:\n",
        "\n",
        "Input: s = \"bbbbb\"\n",
        "Output: 1\n",
        "Explanation: The answer is \"b\", with the length of 1.\n",
        "\n",
        "--------------------------------------------------------------------------------"
      ],
      "metadata": {
        "id": "areVeF5jpuHd"
      }
    },
    {
      "cell_type": "markdown",
      "source": [
        "35\n",
        "ms |\n",
        "Beats\n",
        "18.60%"
      ],
      "metadata": {
        "id": "GM2_8dPIqfRk"
      }
    },
    {
      "cell_type": "code",
      "source": [
        "class Solution:\n",
        "    def lengthOfLongestSubstring(self, s: str) -> int:\n",
        "        letters = []\n",
        "        lens = []\n",
        "\n",
        "        for i in s:\n",
        "            if i not in letters:\n",
        "                letters.append(i)\n",
        "            else:\n",
        "                while i in letters:\n",
        "                    letters.pop(0)\n",
        "                letters.append(i)\n",
        "            lens.append(len(letters))\n",
        "\n",
        "        return max(lens) if lens else 0"
      ],
      "metadata": {
        "id": "ia2hFt-Np00p"
      },
      "execution_count": null,
      "outputs": []
    },
    {
      "cell_type": "markdown",
      "source": [
        "--------------------------------------------------------------------------------\n",
        "\n",
        "43\n",
        "ms |\n",
        "Beats\n",
        "16.03%"
      ],
      "metadata": {
        "id": "nPIRtiXIncLG"
      }
    },
    {
      "cell_type": "code",
      "source": [
        "class Solution:\n",
        "    def lengthOfLongestSubstring(self, s: str) -> int:\n",
        "        seen = []\n",
        "        mlen = 0\n",
        "\n",
        "        for i in s:\n",
        "            while i in seen:\n",
        "                seen.pop(0)  # remove from the beginning until no duplicate\n",
        "            seen.append(i)\n",
        "            mlen = max(mlen, len(seen))\n",
        "\n",
        "        return mlen\n",
        ""
      ],
      "metadata": {
        "id": "yYdN4HeGnxTY"
      },
      "execution_count": null,
      "outputs": []
    }
  ]
}
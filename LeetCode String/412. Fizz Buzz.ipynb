{
  "nbformat": 4,
  "nbformat_minor": 0,
  "metadata": {
    "colab": {
      "provenance": []
    },
    "kernelspec": {
      "name": "python3",
      "display_name": "Python 3"
    },
    "language_info": {
      "name": "python"
    }
  },
  "cells": [
    {
      "cell_type": "markdown",
      "source": [
        "### 412. Fizz Buzz"
      ],
      "metadata": {
        "id": "qZmfizEMqZJc"
      }
    },
    {
      "cell_type": "markdown",
      "source": [
        "\n",
        "Given an integer n, return a string array answer (1-indexed) where:\n",
        "\n",
        "answer[i] == \"FizzBuzz\" if i is divisible by 3 and 5.\n",
        "answer[i] == \"Fizz\" if i is divisible by 3.\n",
        "answer[i] == \"Buzz\" if i is divisible by 5.\n",
        "answer[i] == i (as a string) if none of the above conditions are true.\n",
        "\n",
        "\n",
        "Example 1:\n",
        "\n",
        "Input: n = 3\n",
        "Output: [\"1\",\"2\",\"Fizz\"]\n",
        "Example 2:\n",
        "\n",
        "Input: n = 5\n",
        "Output: [\"1\",\"2\",\"Fizz\",\"4\",\"Buzz\"]\n",
        "Example 3:\n",
        "\n",
        "Input: n = 15\n",
        "Output: [\"1\",\"2\",\"Fizz\",\"4\",\"Buzz\",\"Fizz\",\"7\",\"8\",\"Fizz\",\"Buzz\",\"11\",\"Fizz\",\"13\",\"14\",\"FizzBuzz\"]"
      ],
      "metadata": {
        "id": "APpzfqI-qg6a"
      }
    },
    {
      "cell_type": "code",
      "source": [
        "class Solution:\n",
        "    def fizzBuzz(self, n: int) -> List[str]:\n",
        "        res = []\n",
        "        for i in range(1, n + 1):\n",
        "            if i % 3 == 0 and i % 5 == 0:\n",
        "                res.append(\"FizzBuzz\")\n",
        "            elif i % 3 == 0:\n",
        "                res.append(\"Fizz\")\n",
        "            elif i % 5 == 0:\n",
        "                res.append(\"Buzz\")\n",
        "            else:\n",
        "                res.append(str(i))\n",
        "        return res"
      ],
      "metadata": {
        "id": "s5LbHhZ-Os3W"
      },
      "execution_count": 27,
      "outputs": []
    }
  ]
}
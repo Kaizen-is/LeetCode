{
  "nbformat": 4,
  "nbformat_minor": 0,
  "metadata": {
    "colab": {
      "provenance": []
    },
    "kernelspec": {
      "name": "python3",
      "display_name": "Python 3"
    },
    "language_info": {
      "name": "python"
    }
  },
  "cells": [
    {
      "cell_type": "markdown",
      "source": [
        "### 1662. Check If Two String Arrays are Equivalent"
      ],
      "metadata": {
        "id": "qZmfizEMqZJc"
      }
    },
    {
      "cell_type": "markdown",
      "source": [
        "Given two string arrays word1 and word2, return true if the two arrays represent the same string, and false otherwise.\n",
        "\n",
        "A string is represented by an array if the array elements concatenated in order forms the string.\n",
        "\n",
        "\n",
        "\n",
        "Example 1:\n",
        "\n",
        "Input: word1 = [\"ab\", \"c\"], word2 = [\"a\", \"bc\"]\n",
        "Output: true\n",
        "Explanation:\n",
        "word1 represents string \"ab\" + \"c\" -> \"abc\"\n",
        "word2 represents string \"a\" + \"bc\" -> \"abc\"\n",
        "The strings are the same, so return true.\n",
        "Example 2:\n",
        "\n",
        "Input: word1 = [\"a\", \"cb\"], word2 = [\"ab\", \"c\"]\n",
        "Output: false\n",
        "Example 3:\n",
        "\n",
        "Input: word1  = [\"abc\", \"d\", \"defg\"], word2 = [\"abcddefg\"]\n",
        "Output: true"
      ],
      "metadata": {
        "id": "APpzfqI-qg6a"
      }
    },
    {
      "cell_type": "code",
      "source": [
        "class Solution:\n",
        "    def arrayStringsAreEqual(self, word1: List[str], word2: List[str]) -> bool:\n",
        "        word1 = ''.join(word1)\n",
        "        word2 = ''.join(word2)\n",
        "        return word1 == word2\n",
        "\n",
        "\n"
      ],
      "metadata": {
        "colab": {
          "base_uri": "https://localhost:8080/"
        },
        "id": "s5LbHhZ-Os3W",
        "outputId": "cf624c21-17cd-4272-8155-6f0fd43627eb"
      },
      "execution_count": 17,
      "outputs": [
        {
          "output_type": "stream",
          "name": "stdout",
          "text": [
            "['l', 'e', 'e', 't', 'c', 'o', 'd', 'e']\n"
          ]
        }
      ]
    }
  ]
}
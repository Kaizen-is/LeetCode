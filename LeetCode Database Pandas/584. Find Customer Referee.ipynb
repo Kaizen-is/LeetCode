{
  "nbformat": 4,
  "nbformat_minor": 0,
  "metadata": {
    "colab": {
      "provenance": []
    },
    "kernelspec": {
      "name": "python3",
      "display_name": "Python 3"
    },
    "language_info": {
      "name": "python"
    }
  },
  "cells": [
    {
      "cell_type": "markdown",
      "source": [
        "### 584. Find Customer Referee"
      ],
      "metadata": {
        "id": "nmbpZy2DGLmR"
      }
    },
    {
      "cell_type": "code",
      "execution_count": null,
      "metadata": {
        "id": "ZhdI0AqZprrq"
      },
      "outputs": [],
      "source": [
        "import pandas as pd\n",
        "\n",
        "def find_customer_referee(customer: pd.DataFrame) -> pd.DataFrame:\n",
        "    res = customer[(customer['referee_id'].isnull()) | (customer['referee_id'] != 2)]\n",
        "    return res[['name']]"
      ]
    }
  ]
}
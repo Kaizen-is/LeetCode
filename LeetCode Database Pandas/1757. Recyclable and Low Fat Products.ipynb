{
  "nbformat": 4,
  "nbformat_minor": 0,
  "metadata": {
    "colab": {
      "provenance": []
    },
    "kernelspec": {
      "name": "python3",
      "display_name": "Python 3"
    },
    "language_info": {
      "name": "python"
    }
  },
  "cells": [
    {
      "cell_type": "markdown",
      "source": [
        "### 1757. Recyclable and Low Fat Products"
      ],
      "metadata": {
        "id": "nmbpZy2DGLmR"
      }
    },
    {
      "cell_type": "code",
      "execution_count": null,
      "metadata": {
        "id": "ZhdI0AqZprrq"
      },
      "outputs": [],
      "source": [
        "import pandas as pd\n",
        "def find_products(products: pd.DataFrame) -> pd.DataFrame:\n",
        "    return products.loc[(products['low_fats'] == 'Y') & (products['recyclable'] == 'Y')][['product_id']]"
      ]
    }
  ]
}
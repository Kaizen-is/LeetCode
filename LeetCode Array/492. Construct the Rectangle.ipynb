{
  "nbformat": 4,
  "nbformat_minor": 0,
  "metadata": {
    "colab": {
      "provenance": []
    },
    "kernelspec": {
      "name": "python3",
      "display_name": "Python 3"
    },
    "language_info": {
      "name": "python"
    }
  },
  "cells": [
    {
      "cell_type": "markdown",
      "source": [
        "### 492. Construct the Rectangle"
      ],
      "metadata": {
        "id": "qZmfizEMqZJc"
      }
    },
    {
      "cell_type": "markdown",
      "source": [
        "\n",
        "\n",
        "A web developer needs to know how to design a web page's size. So, given a specific rectangular web page’s area, your job by now is to design a rectangular web page, whose length L and width W satisfy the following requirements:\n",
        "\n",
        "The area of the rectangular web page you designed must equal to the given target area.\n",
        "The width W should not be larger than the length L, which means L >= W.\n",
        "The difference between length L and width W should be as small as possible.\n",
        "Return an array [L, W] where L and W are the length and width of the web page you designed in sequence."
      ],
      "metadata": {
        "id": "APpzfqI-qg6a"
      }
    },
    {
      "cell_type": "code",
      "source": [
        "class Solution:\n",
        "    def constructRectangle(self, area: int) -> List[int]:\n",
        "        w = int(sqrt(area))\n",
        "        while area % w:\n",
        "            w -= 1\n",
        "        return [area//w, w]"
      ],
      "metadata": {
        "id": "s5LbHhZ-Os3W"
      },
      "execution_count": null,
      "outputs": []
    }
  ]
}
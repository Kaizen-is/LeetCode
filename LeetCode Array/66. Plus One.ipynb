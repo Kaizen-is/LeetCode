{
  "nbformat": 4,
  "nbformat_minor": 0,
  "metadata": {
    "colab": {
      "provenance": []
    },
    "kernelspec": {
      "name": "python3",
      "display_name": "Python 3"
    },
    "language_info": {
      "name": "python"
    }
  },
  "cells": [
    {
      "cell_type": "markdown",
      "source": [
        "### LeetCode"
      ],
      "metadata": {
        "id": "AHJbdeGfoE1v"
      }
    },
    {
      "cell_type": "markdown",
      "source": [
        "### 66. Plus One"
      ],
      "metadata": {
        "id": "tkEco9PeprYR"
      }
    },
    {
      "cell_type": "markdown",
      "source": [
        "You are given a large integer represented as an integer array digits, where each digits[i] is the ith digit of the integer. The digits are ordered from most significant to least significant in left-to-right order. The large integer does not contain any leading 0's.\n",
        "\n",
        "Increment the large integer by one and return the resulting array of digits.\n",
        "\n",
        "--------------------------------------------------------------------------------"
      ],
      "metadata": {
        "id": "areVeF5jpuHd"
      }
    },
    {
      "cell_type": "markdown",
      "source": [
        "0\n",
        "ms |\n",
        "Beats\n",
        "100.00%"
      ],
      "metadata": {
        "id": "GM2_8dPIqfRk"
      }
    },
    {
      "cell_type": "code",
      "source": [
        "class Solution:\n",
        "    def plusOne(self, digits: List[int]) -> List[int]:\n",
        "\n",
        "        n = len(digits)\n",
        "\n",
        "        for i in range(n - 1, -1, -1):\n",
        "            if digits[i] < 9:\n",
        "                digits[i] += 1\n",
        "                return digits\n",
        "            else:\n",
        "                digits[i] = 0\n",
        "        digits.insert(0, 1)\n",
        "        return digits\n"
      ],
      "metadata": {
        "id": "ia2hFt-Np00p"
      },
      "execution_count": null,
      "outputs": []
    }
  ]
}
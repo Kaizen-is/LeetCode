{
  "nbformat": 4,
  "nbformat_minor": 0,
  "metadata": {
    "colab": {
      "provenance": []
    },
    "kernelspec": {
      "name": "python3",
      "display_name": "Python 3"
    },
    "language_info": {
      "name": "python"
    }
  },
  "cells": [
    {
      "cell_type": "markdown",
      "source": [
        "### 1464. Maximum Product of Two Elements in an Array"
      ],
      "metadata": {
        "id": "qZmfizEMqZJc"
      }
    },
    {
      "cell_type": "markdown",
      "source": [
        "Given the array of integers nums, you will choose two different indices i and j of that array. Return the maximum value of (nums[i]-1)*(nums[j]-1).\n",
        "\n",
        "\n",
        "Example 1:\n",
        "\n",
        "Input: nums = [3,4,5,2]\n",
        "Output: 12\n",
        "Explanation: If you choose the indices i=1 and j=2 (indexed from 0), you will get the maximum value, that is, (nums[1]-1)*(nums[2]-1) = (4-1)*(5-1) = 3*4 = 12.\n",
        "Example 2:\n",
        "\n",
        "Input: nums = [1,5,4,5]\n",
        "Output: 16\n",
        "Explanation: Choosing the indices i=1 and j=3 (indexed from 0), you will get the maximum value of (5-1)*(5-1) = 16.\n",
        "Example 3:\n",
        "\n",
        "Input: nums = [3,7]\n",
        "Output: 12"
      ],
      "metadata": {
        "id": "APpzfqI-qg6a"
      }
    },
    {
      "cell_type": "code",
      "source": [
        "class Solution:\n",
        "    def maxProduct(self, nums: List[int]) -> int:\n",
        "        m = max(nums)\n",
        "        nums = sorted(nums)\n",
        "        nums.remove(m)\n",
        "        if m in nums:\n",
        "            return (m - 1) * (m -1)\n",
        "        else:\n",
        "            nums.append(m)\n",
        "            m2 = nums[-2]\n",
        "            return (m - 1) * (m2 - 1)"
      ],
      "metadata": {
        "id": "s5LbHhZ-Os3W"
      },
      "execution_count": null,
      "outputs": []
    }
  ]
}
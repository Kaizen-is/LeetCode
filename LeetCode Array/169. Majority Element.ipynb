{
  "nbformat": 4,
  "nbformat_minor": 0,
  "metadata": {
    "colab": {
      "provenance": []
    },
    "kernelspec": {
      "name": "python3",
      "display_name": "Python 3"
    },
    "language_info": {
      "name": "python"
    }
  },
  "cells": [
    {
      "cell_type": "markdown",
      "source": [
        "### 169. Majority Element"
      ],
      "metadata": {
        "id": "jw1mkoEVQZ4f"
      }
    },
    {
      "cell_type": "markdown",
      "source": [
        "Given an array nums of size n, return the majority element.\n",
        "\n",
        "The majority element is the element that appears more than ⌊n / 2⌋ times. You may assume that the majority element always exists in the array.\n",
        "\n",
        "\n",
        "\n",
        "Example 1:\n",
        "\n",
        "Input: nums = [3,2,3]\n",
        "Output: 3\n",
        "Example 2:\n",
        "\n",
        "Input: nums = [2,2,1,1,1,2,2]\n",
        "Output: 2\n",
        "\n"
      ],
      "metadata": {
        "id": "mF8Wu_yXRwRN"
      }
    },
    {
      "cell_type": "code",
      "source": [
        "class Solution:\n",
        "    def majorityElement(self, nums: List[int]) -> int:\n",
        "        majority = 0\n",
        "        res = majority\n",
        "        for n in nums:\n",
        "            if majority == 0:\n",
        "                res = n\n",
        "\n",
        "            majority += 1 if n == res else -1\n",
        "\n",
        "        return res"
      ],
      "metadata": {
        "id": "pP8rh9ybRy4y"
      },
      "execution_count": null,
      "outputs": []
    }
  ]
}
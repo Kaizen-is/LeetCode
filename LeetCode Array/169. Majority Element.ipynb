{
  "nbformat": 4,
  "nbformat_minor": 0,
  "metadata": {
    "colab": {
      "provenance": []
    },
    "kernelspec": {
      "name": "python3",
      "display_name": "Python 3"
    },
    "language_info": {
      "name": "python"
    }
  },
  "cells": [
    {
      "cell_type": "markdown",
      "source": [
        "### 169. Majority Element"
      ],
      "metadata": {
        "id": "MQH9EJRBapRx"
      }
    },
    {
      "cell_type": "markdown",
      "source": [
        "\n",
        "premium lock icon\n",
        "Companies\n",
        "Given an array nums of size n, return the majority element.\n",
        "\n",
        "The majority element is the element that appears more than ⌊n / 2⌋ times. You may assume that the majority element always exists in the arra"
      ],
      "metadata": {
        "id": "KPyajZ5gbhBB"
      }
    },
    {
      "cell_type": "code",
      "source": [
        "class Solution:\n",
        "    def majorityElement(self, nums: List[int]) -> int:\n",
        "        majority = 0\n",
        "        res = majority\n",
        "        for n in nums:\n",
        "            if majority == 0:\n",
        "                res = n\n",
        "\n",
        "            majority += 1 if n == res else -1\n",
        "\n",
        "        return res"
      ],
      "metadata": {
        "id": "VNDoJa87Xzsx"
      },
      "execution_count": null,
      "outputs": []
    }
  ]
}
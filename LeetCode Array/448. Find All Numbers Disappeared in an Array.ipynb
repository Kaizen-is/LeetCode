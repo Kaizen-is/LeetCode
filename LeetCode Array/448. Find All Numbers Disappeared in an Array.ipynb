{
  "nbformat": 4,
  "nbformat_minor": 0,
  "metadata": {
    "colab": {
      "provenance": []
    },
    "kernelspec": {
      "name": "python3",
      "display_name": "Python 3"
    },
    "language_info": {
      "name": "python"
    }
  },
  "cells": [
    {
      "cell_type": "markdown",
      "source": [
        "### 448. Find All Numbers Disappeared in an Array"
      ],
      "metadata": {
        "id": "MQH9EJRBapRx"
      }
    },
    {
      "cell_type": "markdown",
      "source": [
        "Given an array nums of n integers where nums[i] is in the range [1, n], return an array of all the integers in the range [1, n] that do not appear in nums.\n",
        "\n",
        "\n",
        "\n",
        "Example 1:\n",
        "\n",
        "Input: nums = [4,3,2,7,8,2,3,1]\n",
        "Output: [5,6]\n",
        "Example 2:\n",
        "\n",
        "Input: nums = [1,1]\n",
        "Output: [2]"
      ],
      "metadata": {
        "id": "KPyajZ5gbhBB"
      }
    },
    {
      "cell_type": "code",
      "source": [
        "class Solution:\n",
        "    def findDisappearedNumbers(self, nums: List[int]) -> List[int]:\n",
        "        res = len(nums) + 1\n",
        "        new = list(range(1, res))\n",
        "        new = set(new)\n",
        "        numm = set(nums)\n",
        "        return list(new.difference(numm))\n",
        "\n",
        ""
      ],
      "metadata": {
        "id": "VNDoJa87Xzsx"
      },
      "execution_count": null,
      "outputs": []
    }
  ]
}
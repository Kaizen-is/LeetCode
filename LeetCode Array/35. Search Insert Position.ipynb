{
  "nbformat": 4,
  "nbformat_minor": 0,
  "metadata": {
    "colab": {
      "provenance": []
    },
    "kernelspec": {
      "name": "python3",
      "display_name": "Python 3"
    },
    "language_info": {
      "name": "python"
    }
  },
  "cells": [
    {
      "cell_type": "markdown",
      "source": [
        "### 35. Search Insert Position"
      ],
      "metadata": {
        "id": "MQH9EJRBapRx"
      }
    },
    {
      "cell_type": "markdown",
      "source": [
        "\n",
        "Given a sorted array of distinct integers and a target value, return the index if the target is found. If not, return the index where it would be if it were inserted in order.\n",
        "\n",
        "You must write an algorithm with O(log n) runtime complexity."
      ],
      "metadata": {
        "id": "KPyajZ5gbhBB"
      }
    },
    {
      "cell_type": "code",
      "source": [
        "class Solution:\n",
        "    def searchInsert(self, nums: List[int], target: int) -> int:\n",
        "        # if target in nums:\n",
        "        #     for ind, i enumerate(nums):\n",
        "        #         if i == target:\n",
        "        #             return ind\n",
        "        # else:\n",
        "        #     i = 0\n",
        "        #     while i <= target:\n",
        "\n",
        "\n",
        "\n",
        "        for ind, i in enumerate(nums):\n",
        "            if i == target:\n",
        "                return ind\n",
        "        for idx, j in enumerate(nums):\n",
        "            if j > target:\n",
        "                return idx\n",
        "        return idx + 1"
      ],
      "metadata": {
        "id": "VNDoJa87Xzsx"
      },
      "execution_count": null,
      "outputs": []
    }
  ]
}
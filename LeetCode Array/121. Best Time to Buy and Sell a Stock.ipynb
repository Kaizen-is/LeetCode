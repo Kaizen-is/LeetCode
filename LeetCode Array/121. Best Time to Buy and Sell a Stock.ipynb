{
  "nbformat": 4,
  "nbformat_minor": 0,
  "metadata": {
    "colab": {
      "provenance": []
    },
    "kernelspec": {
      "name": "python3",
      "display_name": "Python 3"
    },
    "language_info": {
      "name": "python"
    }
  },
  "cells": [
    {
      "cell_type": "markdown",
      "source": [
        "### LeetCode Array"
      ],
      "metadata": {
        "id": "AHJbdeGfoE1v"
      }
    },
    {
      "cell_type": "markdown",
      "source": [
        "### 121. Best Time to Buy and Sell a Stock"
      ],
      "metadata": {
        "id": "tkEco9PeprYR"
      }
    },
    {
      "cell_type": "markdown",
      "source": [
        "You are given an array prices where prices[i] is the price of a given stock on the ith day.\n",
        "\n",
        "You want to maximize your profit by choosing a single day to buy one stock and choosing a different day in the future to sell that stock.\n",
        "\n",
        "Return the maximum profit you can achieve from this transaction. If you cannot achieve any profit, return 0.\n",
        "\n",
        "\n",
        "\n",
        "Example 1:\n",
        "\n",
        "Input: prices = [7,1,5,3,6,4]\n",
        "Output: 5\n",
        "Explanation: Buy on day 2 (price = 1) and sell on day 5 (price = 6), profit = 6-1 = 5.\n",
        "Note that buying on day 2 and selling on day 1 is not allowed because you must buy before you sell.\n",
        "\n",
        "--------------------------------------------------------------------------------"
      ],
      "metadata": {
        "id": "areVeF5jpuHd"
      }
    },
    {
      "cell_type": "code",
      "source": [
        "class Solution:\n",
        "    def maxProfit(self, prices: List[int]) -> int:\n",
        "        min_price = prices[0]\n",
        "        max_proffit = 0\n",
        "        for i in prices:\n",
        "            if min_price > i:\n",
        "                min_price = i\n",
        "            else:\n",
        "                max_proffit = max(max_proffit, i - min_price)\n",
        "        return max_proffit\n",
        "\n",
        "\n"
      ],
      "metadata": {
        "id": "ia2hFt-Np00p"
      },
      "execution_count": null,
      "outputs": []
    },
    {
      "cell_type": "code",
      "source": [
        " class Solution:\n",
        "    def maxProfit(self, prices: List[int]) -> int:\n",
        "        maxed = 0\n",
        "        for i in range(len(prices)):\n",
        "            for j in range(i + 1, len(prices)):\n",
        "                if prices[j] - prices[i] > maxed:\n",
        "                    maxed = prices[j] - prices[i]\n",
        "        return maxed\n"
      ],
      "metadata": {
        "id": "_KTvARq2fpwW"
      },
      "execution_count": null,
      "outputs": []
    },
    {
      "cell_type": "code",
      "source": [
        " class Solution:\n",
        "    def maxProfit(self, prices: List[int]) -> int:\n",
        "\n",
        "        minP = prices[0]\n",
        "        profit = {}\n",
        "        maxP = 0\n",
        "\n",
        "        for ind, i in enumerate(prices):\n",
        "            if i < minP:\n",
        "                minP = i\n",
        "            else:\n",
        "                current = i - minP\n",
        "                profit[ind] = current\n",
        "            if current > maxP:\n",
        "                maxP = current\n",
        "\n",
        "        return maxP\n"
      ],
      "metadata": {
        "id": "E32CVkSFfzCB"
      },
      "execution_count": null,
      "outputs": []
    },
    {
      "cell_type": "code",
      "source": [
        " class Solution:\n",
        "    def maxProfit(self, prices: List[int]) -> int:\n",
        "        min_price = prices[0]\n",
        "        max_proffit = 0\n",
        "        for i in range(len(prices)):\n",
        "            if prices[i] < min_price:\n",
        "                min_price = prices[i]\n",
        "            else:\n",
        "                dif = prices[i] - min_price\n",
        "            if dif < max_proffit:\n",
        "                max_proffit = dif\n",
        "\n",
        "        return max_proffit"
      ],
      "metadata": {
        "id": "cnPoVENGf5ID"
      },
      "execution_count": null,
      "outputs": []
    }
  ]
}
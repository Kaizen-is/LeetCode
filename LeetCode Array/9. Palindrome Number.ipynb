{
  "nbformat": 4,
  "nbformat_minor": 0,
  "metadata": {
    "colab": {
      "provenance": []
    },
    "kernelspec": {
      "name": "python3",
      "display_name": "Python 3"
    },
    "language_info": {
      "name": "python"
    }
  },
  "cells": [
    {
      "cell_type": "markdown",
      "source": [
        "### Leet Code"
      ],
      "metadata": {
        "id": "rrwhSuQyFFVI"
      }
    },
    {
      "cell_type": "markdown",
      "source": [
        "### 9. Palindrome Number"
      ],
      "metadata": {
        "id": "9MM1UdyQFhYr"
      }
    },
    {
      "cell_type": "markdown",
      "source": [
        "5\n",
        "ms |\n",
        "Beats\n",
        "71.07%"
      ],
      "metadata": {
        "id": "76BdKdAjFumv"
      }
    },
    {
      "cell_type": "code",
      "source": [
        "class Solution:\n",
        "    def isPalindrome(self, x: int) -> bool:\n",
        "        if x < 0:\n",
        "            return False\n",
        "        if x == 0:\n",
        "            return True\n",
        "        if x % 10 == 0:\n",
        "            return False\n",
        "        n = 0\n",
        "        original = x\n",
        "        while x > 0:\n",
        "            last = x % 10\n",
        "            n = (n * 10) + last\n",
        "            x = x // 10\n",
        "        return n == original"
      ],
      "metadata": {
        "id": "QJjcZoVUFsga"
      },
      "execution_count": null,
      "outputs": []
    },
    {
      "cell_type": "markdown",
      "source": [
        "--------------------------------------------------------------------------------"
      ],
      "metadata": {
        "id": "Zn4iIY0tF85r"
      }
    },
    {
      "cell_type": "markdown",
      "source": [
        "9\n",
        "ms |\n",
        "Beats\n",
        "43.65%"
      ],
      "metadata": {
        "id": "abPlNGleGFzB"
      }
    },
    {
      "cell_type": "code",
      "source": [
        "class Solution:\n",
        "    def isPalindrome(self, x: int) -> bool:\n",
        "        x = str(x)\n",
        "        if x[::-1] == x:\n",
        "            return True\n",
        "        else:\n",
        "            return False"
      ],
      "metadata": {
        "id": "-vYgd_p8GK1q"
      },
      "execution_count": null,
      "outputs": []
    }
  ]
}

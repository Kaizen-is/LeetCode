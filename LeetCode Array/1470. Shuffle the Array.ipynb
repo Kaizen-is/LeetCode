{
  "nbformat": 4,
  "nbformat_minor": 0,
  "metadata": {
    "colab": {
      "provenance": []
    },
    "kernelspec": {
      "name": "python3",
      "display_name": "Python 3"
    },
    "language_info": {
      "name": "python"
    }
  },
  "cells": [
    {
      "cell_type": "markdown",
      "source": [
        "### 1470. Shuffle the Array"
      ],
      "metadata": {
        "id": "qZmfizEMqZJc"
      }
    },
    {
      "cell_type": "markdown",
      "source": [
        "Given the array nums consisting of 2n elements in the form [x1,x2,...,xn,y1,y2,...,yn].\n",
        "\n",
        "Return the array in the form [x1,y1,x2,y2,...,xn,yn].\n",
        "\n",
        "\n",
        "\n",
        "Example 1:\n",
        "\n",
        "Input: nums = [2,5,1,3,4,7], n = 3\n",
        "Output: [2,3,5,4,1,7]\n",
        "Explanation: Since x1=2, x2=5, x3=1, y1=3, y2=4, y3=7 then the answer is [2,3,5,4,1,7].\n",
        "Example 2:\n",
        "\n",
        "Input: nums = [1,2,3,4,4,3,2,1], n = 4\n",
        "Output: [1,4,2,3,3,2,4,1]\n",
        "Example 3:\n",
        "\n",
        "Input: nums = [1,1,2,2], n = 2\n",
        "Output: [1,2,1,2]\n",
        ""
      ],
      "metadata": {
        "id": "APpzfqI-qg6a"
      }
    },
    {
      "cell_type": "code",
      "source": [
        "class Solution:\n",
        "    def shuffle(self, nums: List[int], n: int) -> List[int]:\n",
        "        res = []\n",
        "        k = n\n",
        "        i = 0\n",
        "        while i <= n - 1:\n",
        "            res.append(nums[i])\n",
        "            res.append(nums[k])\n",
        "            k += 1\n",
        "            i += 1\n",
        "        return res"
      ],
      "metadata": {
        "id": "Jpuo1qSyqlWJ"
      },
      "execution_count": null,
      "outputs": []
    }
  ]
}
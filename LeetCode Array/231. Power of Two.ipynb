{
  "nbformat": 4,
  "nbformat_minor": 0,
  "metadata": {
    "colab": {
      "provenance": []
    },
    "kernelspec": {
      "name": "python3",
      "display_name": "Python 3"
    },
    "language_info": {
      "name": "python"
    }
  },
  "cells": [
    {
      "cell_type": "markdown",
      "source": [
        "### 231. Power of Two"
      ],
      "metadata": {
        "id": "qZmfizEMqZJc"
      }
    },
    {
      "cell_type": "markdown",
      "source": [
        "Given an integer n, return true if it is a power of two. Otherwise, return false.\n",
        "\n",
        "An integer n is a power of two, if there exists an integer x such that n == 2x.\n",
        "\n",
        "\n",
        "\n",
        "Example 1:\n",
        "\n",
        "Input: n = 1\n",
        "Output: true\n",
        "Explanation: 20 = 1\n",
        "Example 2:\n",
        "\n",
        "Input: n = 16\n",
        "Output: true\n",
        "Explanation: 24 = 16\n",
        "Example 3:\n",
        "\n",
        "Input: n = 3\n",
        "Output: false"
      ],
      "metadata": {
        "id": "APpzfqI-qg6a"
      }
    },
    {
      "cell_type": "code",
      "source": [
        "class Solution:\n",
        "    def isPowerOfTwo(self, n: int) -> bool:\n",
        "        if n > 0:\n",
        "            res = log(n, 2)\n",
        "            return 2 ** int(res) == n\n",
        "        else:\n",
        "            return False\n",
        "\n",
        "        # if n > 0:\n",
        "        #     res = log(n, 2)\n",
        "        #     if 2 ** int(res) == n:\n",
        "        #         return True\n",
        "        #     else:\n",
        "        #         return False\n",
        "        # return False"
      ],
      "metadata": {
        "id": "s5LbHhZ-Os3W"
      },
      "execution_count": 27,
      "outputs": []
    }
  ]
}
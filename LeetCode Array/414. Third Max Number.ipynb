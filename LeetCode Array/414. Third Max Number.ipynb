{
  "nbformat": 4,
  "nbformat_minor": 0,
  "metadata": {
    "colab": {
      "provenance": []
    },
    "kernelspec": {
      "name": "python3",
      "display_name": "Python 3"
    },
    "language_info": {
      "name": "python"
    }
  },
  "cells": [
    {
      "cell_type": "markdown",
      "source": [
        "### 414. Third Max Number"
      ],
      "metadata": {
        "id": "jw1mkoEVQZ4f"
      }
    },
    {
      "cell_type": "markdown",
      "source": [
        "Given an integer array nums, return the third distinct maximum number in this array. If the third maximum does not exist, return the maximum number.\n",
        "\n",
        "\n",
        "\n",
        "Example 1:\n",
        "\n",
        "Input: nums = [3,2,1]\n",
        "Output: 1\n",
        "Explanation:\n",
        "The first distinct maximum is 3.\n",
        "The second distinct maximum is 2.\n",
        "The third distinct maximum is 1.\n",
        "Example 2:\n",
        "\n",
        "Input: nums = [1,2]\n",
        "Output: 2\n",
        "Explanation:\n",
        "The first distinct maximum is 2.\n",
        "The second distinct maximum is 1.\n",
        "The third distinct maximum does not exist, so the maximum (2) is returned instead."
      ],
      "metadata": {
        "id": "mF8Wu_yXRwRN"
      }
    },
    {
      "cell_type": "code",
      "source": [
        "class Solution:\n",
        "    def thirdMax(self, nums: List[int]) -> int:\n",
        "        if len(set(nums)) < 3:\n",
        "            return max(nums)\n",
        "        num = list(set(nums))\n",
        "        num.sort()\n",
        "        return num[-3]"
      ],
      "metadata": {
        "id": "pP8rh9ybRy4y"
      },
      "execution_count": null,
      "outputs": []
    }
  ]
}
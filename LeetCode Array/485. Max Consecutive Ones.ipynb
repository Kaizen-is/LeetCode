{
  "nbformat": 4,
  "nbformat_minor": 0,
  "metadata": {
    "colab": {
      "provenance": []
    },
    "kernelspec": {
      "name": "python3",
      "display_name": "Python 3"
    },
    "language_info": {
      "name": "python"
    }
  },
  "cells": [
    {
      "cell_type": "markdown",
      "source": [
        "### 485. Max Consecutive Ones"
      ],
      "metadata": {
        "id": "MQH9EJRBapRx"
      }
    },
    {
      "cell_type": "markdown",
      "source": [
        "Given a binary array nums, return the maximum number of consecutive 1's in the array.\n",
        "\n",
        "\n",
        "\n",
        "Example 1:\n",
        "\n",
        "Input: nums = [1,1,0,1,1,1]\n",
        "Output: 3\n",
        "Explanation: The first two digits or the last three digits are consecutive 1s. The maximum number of consecutive 1s is 3.\n",
        "Example 2:\n",
        "\n",
        "Input: nums = [1,0,1,1,0,1]\n",
        "Output:"
      ],
      "metadata": {
        "id": "KPyajZ5gbhBB"
      }
    },
    {
      "cell_type": "code",
      "source": [
        "class Solution:\n",
        "    def findMaxConsecutiveOnes(self, nums: List[int]) -> int:\n",
        "        res = 0\n",
        "        result = []\n",
        "        for i in nums:\n",
        "            if i == 1:\n",
        "                res +=1\n",
        "                result.append(res)\n",
        "            else:\n",
        "                res = 0\n",
        "        if 1 not in nums:\n",
        "            return 0\n",
        "        return max(result)\n",
        "\n",
        ""
      ],
      "metadata": {
        "id": "VNDoJa87Xzsx"
      },
      "execution_count": null,
      "outputs": []
    }
  ]
}
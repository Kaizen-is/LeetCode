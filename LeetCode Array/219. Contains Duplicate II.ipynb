{
  "nbformat": 4,
  "nbformat_minor": 0,
  "metadata": {
    "colab": {
      "provenance": []
    },
    "kernelspec": {
      "name": "python3",
      "display_name": "Python 3"
    },
    "language_info": {
      "name": "python"
    }
  },
  "cells": [
    {
      "cell_type": "markdown",
      "source": [
        "### 219. Contains Duplicate II"
      ],
      "metadata": {
        "id": "MQH9EJRBapRx"
      }
    },
    {
      "cell_type": "markdown",
      "source": [
        "\n",
        "\n",
        "Given an integer array nums and an integer k, return true if there are two distinct indices i and j in the array such that nums[i] == nums[j] and abs(i - j) <= k.\n",
        "\n",
        "\n",
        "\n",
        "Example 1:\n",
        "\n",
        "Input: nums = [1,2,3,1], k = 3\n",
        "Output: true\n",
        "Example 2:\n",
        "\n",
        "Input: nums = [1,0,1,1], k = 1\n",
        "Output: true\n",
        "Example 3:\n",
        "\n",
        "Input: nums = [1,2,3,1,2,3], k = 2\n",
        "Output: false"
      ],
      "metadata": {
        "id": "KPyajZ5gbhBB"
      }
    },
    {
      "cell_type": "code",
      "source": [
        "class Solution:\n",
        "    def containsNearbyDuplicate(self, nums: List[int], k: int) -> bool:\n",
        "        # for i in range(len(nums)):\n",
        "        #     for j in range(i + 1, len(nums)):\n",
        "        #         if nums[i] == nums[j] and abs(i - j) <= k:\n",
        "        #             return True\n",
        "        # return False\n",
        "\n",
        "\n",
        "        # new = {}\n",
        "        # for ind in range(len(nums)):\n",
        "        #     if nums[ind] in new and abs(ind - new[nums[ind]]) <= k:\n",
        "        #         return True\n",
        "        #     else:\n",
        "        #         new[nums[ind]] = ind\n",
        "        # return False\n",
        "\n",
        "\n",
        "\n",
        "        new = {}\n",
        "        for ind, i in enumerate(nums):\n",
        "            if i in new:\n",
        "                if abs(new[i] - ind) <= k:\n",
        "                    return True\n",
        "\n",
        "            new[i] = ind\n",
        "        return False"
      ],
      "metadata": {
        "id": "VNDoJa87Xzsx"
      },
      "execution_count": null,
      "outputs": []
    }
  ]
}
{
  "nbformat": 4,
  "nbformat_minor": 0,
  "metadata": {
    "colab": {
      "provenance": []
    },
    "kernelspec": {
      "name": "python3",
      "display_name": "Python 3"
    },
    "language_info": {
      "name": "python"
    }
  },
  "cells": [
    {
      "cell_type": "markdown",
      "source": [
        "### LeetCode"
      ],
      "metadata": {
        "id": "AHJbdeGfoE1v"
      }
    },
    {
      "cell_type": "markdown",
      "source": [
        "1. Two Sum"
      ],
      "metadata": {
        "id": "tkEco9PeprYR"
      }
    },
    {
      "cell_type": "markdown",
      "source": [
        "Given an array of integers nums and an integer target, return indices of the two numbers such that they add up to target.\n",
        "\n",
        "You may assume that each input would have exactly one solution, and you may not use the same element twice.\n",
        "\n",
        "--------------------------------------------------------------------------------"
      ],
      "metadata": {
        "id": "areVeF5jpuHd"
      }
    },
    {
      "cell_type": "markdown",
      "source": [
        "3\n",
        "ms |\n",
        "Beats\n",
        "50.77%"
      ],
      "metadata": {
        "id": "GM2_8dPIqfRk"
      }
    },
    {
      "cell_type": "code",
      "source": [
        "class Solution:\n",
        "    def twoSum(self, nums: List[int], target: int) -> List[int]:\n",
        "        indexed_nums = list(enumerate(nums))\n",
        "        indexed_nums.sort(key=lambda x: x[1])\n",
        "        left = 0\n",
        "        right = len(indexed_nums) - 1\n",
        "        while left < right:\n",
        "            val_left = indexed_nums[left][1]\n",
        "            val_right = indexed_nums[right][1]\n",
        "            current_sum = val_left + val_right\n",
        "            if current_sum == target:\n",
        "                return [indexed_nums[left][0], indexed_nums[right][0]]\n",
        "            elif current_sum < target:\n",
        "                left += 1\n",
        "            else:\n",
        "                right -= 1"
      ],
      "metadata": {
        "id": "ia2hFt-Np00p"
      },
      "execution_count": null,
      "outputs": []
    },
    {
      "cell_type": "markdown",
      "source": [
        "--------------------------------------------------------------------------------\n",
        "0\n",
        "ms |\n",
        "Beats\n",
        "100.00%"
      ],
      "metadata": {
        "id": "tU_yxnxQqBof"
      }
    },
    {
      "cell_type": "code",
      "execution_count": null,
      "metadata": {
        "id": "geyIRvZqoDxx"
      },
      "outputs": [],
      "source": [
        "class Solution:\n",
        "    def twoSum(self, nums: List[int], target: int) -> List[int]:\n",
        "        n = {}\n",
        "        for i, num in enumerate(nums):\n",
        "            a = target - num\n",
        "            if a in n:\n",
        "                return (n[a], i)\n",

        "            n[num] = i"
      ]
    }
  ]
}

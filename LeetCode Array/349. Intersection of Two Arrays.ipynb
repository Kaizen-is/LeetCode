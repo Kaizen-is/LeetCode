{
  "nbformat": 4,
  "nbformat_minor": 0,
  "metadata": {
    "colab": {
      "provenance": []
    },
    "kernelspec": {
      "name": "python3",
      "display_name": "Python 3"
    },
    "language_info": {
      "name": "python"
    }
  },
  "cells": [
    {
      "cell_type": "markdown",
      "source": [
        "### 349. Intersection of Two Arrays"
      ],
      "metadata": {
        "id": "MQH9EJRBapRx"
      }
    },
    {
      "cell_type": "markdown",
      "source": [
        "Given two integer arrays nums1 and nums2, return an array of their intersection. Each element in the result must be unique and you may return the result in any order.\n",
        "\n",
        "\n",
        "\n",
        "Example 1:\n",
        "\n",
        "Input: nums1 = [1,2,2,1], nums2 = [2,2]\n",
        "Output: [2]\n",
        "Example 2:\n",
        "\n",
        "Input: nums1 = [4,9,5], nums2 = [9,4,9,8,4]\n",
        "Output: [9,4]\n",
        "Explanation: [4,9] is also accepted."
      ],
      "metadata": {
        "id": "KPyajZ5gbhBB"
      }
    },
    {
      "cell_type": "code",
      "source": [
        "class Solution:\n",
        "    def intersection(self, nums1: List[int], nums2: List[int]) -> List[int]:\n",
        "        n = set(nums1)\n",
        "        m = set(nums2)\n",
        "        return list(n.intersection(m))\n",
        ""
      ],
      "metadata": {
        "id": "VNDoJa87Xzsx"
      },
      "execution_count": null,
      "outputs": []
    }
  ]
}
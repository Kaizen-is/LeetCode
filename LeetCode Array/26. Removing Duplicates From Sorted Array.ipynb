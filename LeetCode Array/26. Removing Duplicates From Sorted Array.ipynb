{
  "nbformat": 4,
  "nbformat_minor": 0,
  "metadata": {
    "colab": {
      "provenance": []
    },
    "kernelspec": {
      "name": "python3",
      "display_name": "Python 3"
    },
    "language_info": {
      "name": "python"
    }
  },
  "cells": [
    {
      "cell_type": "markdown",
      "source": [
        "### LeetCode"
      ],
      "metadata": {
        "id": "AHJbdeGfoE1v"
      }
    },
    {
      "cell_type": "markdown",
      "source": [
        "### 26. Removing Duplicates From Sorted Array"
      ],
      "metadata": {
        "id": "tkEco9PeprYR"
      }
    },
    {
      "cell_type": "markdown",
      "source": [
        "Given an integer array nums sorted in non-decreasing order, remove the duplicates in-place such that each unique element appears only once. The relative order of the elements should be kept the same. Then return the number of unique elements in nums.\n",
        "\n",
        "Consider the number of unique elements of nums to be k, to get accepted, you need to do the following things:\n",
        "\n",
        "Change the array nums such that the first k elements of nums contain the unique elements in the order they were present in nums initially. The remaining elements of nums are not important as well as the size of nums.\n",
        "Return k.\n",
        "\n",
        "--------------------------------------------------------------------------------"
      ],
      "metadata": {
        "id": "areVeF5jpuHd"
      }
    },
    {
      "cell_type": "markdown",
      "source": [
        "0 ms |\n",
        "Beats\n",
        "100.00%"
      ],
      "metadata": {
        "id": "GM2_8dPIqfRk"
      }
    },
    {
      "cell_type": "code",
      "source": [
        "class Solution:\n",
        "    def removeDuplicates(self, nums):\n",
        "        k = 0\n",
        "        for i in range(0, len(nums)):\n",
        "            if nums[i] != nums[k]:\n",
        "                k += 1\n",
        "                nums[k] = nums[i]\n",
        "\n",
        "        return k + 1"
      ],
      "metadata": {
        "id": "ia2hFt-Np00p"
      },
      "execution_count": null,
      "outputs": []
    }
  ]
}
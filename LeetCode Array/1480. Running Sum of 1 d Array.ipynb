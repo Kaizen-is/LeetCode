{
  "nbformat": 4,
  "nbformat_minor": 0,
  "metadata": {
    "colab": {
      "provenance": []
    },
    "kernelspec": {
      "name": "python3",
      "display_name": "Python 3"
    },
    "language_info": {
      "name": "python"
    }
  },
  "cells": [
    {
      "cell_type": "markdown",
      "source": [
        "### LeetCode Array"
      ],
      "metadata": {
        "id": "AHJbdeGfoE1v"
      }
    },
    {
      "cell_type": "markdown",
      "source": [
        "### 1480. Running Sum of 1 d Array"
      ],
      "metadata": {
        "id": "tkEco9PeprYR"
      }
    },
    {
      "cell_type": "markdown",
      "source": [
        "Given an array nums. We define a running sum of an array as runningSum[i] = sum(nums[0]…nums[i]).\n",
        "\n",
        "Return the running sum of nums.\n",
        "\n",
        "\n",
        "\n",
        "Example 1:\n",
        "\n",
        "Input: nums = [1,2,3,4]\n",
        "Output: [1,3,6,10]\n",
        "Explanation: Running sum is obtained as follows: [1, 1+2, 1+2+3, 1+2+3+4].\n",
        "\n",
        "--------------------------------------------------------------------------------"
      ],
      "metadata": {
        "id": "areVeF5jpuHd"
      }
    },
    {
      "cell_type": "code",
      "source": [
        "class Solution:\n",
        "    def runningSum(self, nums: List[int]) -> List[int]:\n",
        "        a = 0\n",
        "        num = []\n",
        "        while len(nums) - 1 >= a:\n",
        "            if len(num) == 0:\n",
        "                num.append(nums[a])\n",
        "            else:\n",
        "                num.append(nums[a] + num[a - 1])\n",
        "            a+=1\n",
        "        return  num\n",
        "\n"
      ],
      "metadata": {
        "id": "ia2hFt-Np00p"
      },
      "execution_count": null,
      "outputs": []
    }
  ]
}
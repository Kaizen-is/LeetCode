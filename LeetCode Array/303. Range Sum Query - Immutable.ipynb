{
  "nbformat": 4,
  "nbformat_minor": 0,
  "metadata": {
    "colab": {
      "provenance": []
    },
    "kernelspec": {
      "name": "python3",
      "display_name": "Python 3"
    },
    "language_info": {
      "name": "python"
    }
  },
  "cells": [
    {
      "cell_type": "markdown",
      "source": [
        "### 303. Range Sum Query - Immutable"
      ],
      "metadata": {
        "id": "MQH9EJRBapRx"
      }
    },
    {
      "cell_type": "markdown",
      "source": [
        "\n",
        "\n",
        "Given an integer array nums, handle multiple queries of the following type:\n",
        "\n",
        "Calculate the sum of the elements of nums between indices left and right inclusive where left <= right.\n",
        "Implement the NumArray class:\n",
        "\n",
        "NumArray(int[] nums) Initializes the object with the integer array nums.\n",
        "int sumRange(int left, int right) Returns the sum of the elements of nums between indices left and right inclusive (i.e. nums[left] + nums[left + 1] + ... + nums[right])."
      ],
      "metadata": {
        "id": "KPyajZ5gbhBB"
      }
    },
    {
      "cell_type": "code",
      "source": [
        "class NumArray:\n",
        "\n",
        "    def __init__(self, nums: List[int]):\n",
        "        self.nums = nums\n",
        "\n",
        "    def sumRange(self, left: int, right: int) -> int:\n",
        "\n",
        "        return sum(self.nums[left:right+1])\n",
        "\n",
        "\n",
        "\n",
        "# Your NumArray object will be instantiated and called as such:\n",
        "# obj = NumArray(nums)\n",
        "# param_1 = obj.sumRange(left,right)\n",
        ""
      ],
      "metadata": {
        "id": "VNDoJa87Xzsx"
      },
      "execution_count": null,
      "outputs": []
    }
  ]
}
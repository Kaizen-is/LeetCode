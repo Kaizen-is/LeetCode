{
  "nbformat": 4,
  "nbformat_minor": 0,
  "metadata": {
    "colab": {
      "provenance": []
    },
    "kernelspec": {
      "name": "python3",
      "display_name": "Python 3"
    },
    "language_info": {
      "name": "python"
    }
  },
  "cells": [
    {
      "cell_type": "markdown",
      "source": [
        "### 844. Backspace String Compare"
      ],
      "metadata": {
        "id": "qZmfizEMqZJc"
      }
    },
    {
      "cell_type": "markdown",
      "source": [
        "\n",
        "\n",
        "Given two strings s and t, return true if they are equal when both are typed into empty text editors. '#' means a backspace character.\n",
        "\n",
        "Note that after backspacing an empty text, the text will continue empty.\n",
        "\n",
        "\n",
        "\n",
        "Example 1:\n",
        "\n",
        "Input: s = \"ab#c\", t = \"ad#c\"\n",
        "Output: true\n",
        "Explanation: Both s and t become \"ac\".\n",
        "Example 2:\n",
        "\n",
        "Input: s = \"ab##\", t = \"c#d#\"\n",
        "Output: true\n",
        "Explanation: Both s and t become \"\".\n",
        "Example 3:\n",
        "\n",
        "Input: s = \"a#c\", t = \"b\"\n",
        "Output: false\n",
        "Explanation: s becomes \"c\" while t becomes \"b\".\n",
        ""
      ],
      "metadata": {
        "id": "APpzfqI-qg6a"
      }
    },
    {
      "cell_type": "code",
      "source": [
        "class Solution:\n",
        "    def backspaceCompare(self, s: str, t: str) -> bool:\n",
        "        def process(text):\n",
        "            result = []\n",
        "            for char in text:\n",
        "                if char == '#':\n",
        "                    if result:\n",
        "                        result.pop()\n",
        "                else:\n",
        "                    result.append(char)\n",
        "            return result\n",
        "\n",
        "        return process(s) == process(t)"
      ],
      "metadata": {
        "id": "s5LbHhZ-Os3W"
      },
      "execution_count": null,
      "outputs": []
    }
  ]
}
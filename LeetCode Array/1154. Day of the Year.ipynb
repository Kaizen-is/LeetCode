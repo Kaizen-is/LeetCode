{
  "nbformat": 4,
  "nbformat_minor": 0,
  "metadata": {
    "colab": {
      "provenance": []
    },
    "kernelspec": {
      "name": "python3",
      "display_name": "Python 3"
    },
    "language_info": {
      "name": "python"
    }
  },
  "cells": [
    {
      "cell_type": "markdown",
      "source": [
        "### 1154. Day of the Year"
      ],
      "metadata": {
        "id": "qZmfizEMqZJc"
      }
    },
    {
      "cell_type": "markdown",
      "source": [
        "Given a string date representing a Gregorian calendar date formatted as YYYY-MM-DD, return the day number of the year.\n",
        "\n",
        "\n",
        "\n",
        "Example 1:\n",
        "\n",
        "Input: date = \"2019-01-09\"\n",
        "Output: 9\n",
        "Explanation: Given date is the 9th day of the year in 2019.\n",
        "Example 2:\n",
        "\n",
        "Input: date = \"2019-02-10\"\n",
        "Output: 41\n",
        ""
      ],
      "metadata": {
        "id": "APpzfqI-qg6a"
      }
    },
    {
      "cell_type": "code",
      "source": [
        "class Solution:\n",
        "    def dayOfYear(self, date: str) -> int:\n",
        "        from datetime import datetime\n",
        "        new = int(date[:4])\n",
        "        new = datetime(new, 1, 1)\n",
        "\n",
        "        date = datetime(int(date[:4]), int(date[5:7]), int(date[-2:]))\n",
        "\n",
        "        return (date - new).days + 1"
      ],
      "metadata": {
        "id": "s5LbHhZ-Os3W"
      },
      "execution_count": null,
      "outputs": []
    }
  ]
}
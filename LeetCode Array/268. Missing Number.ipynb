{
  "nbformat": 4,
  "nbformat_minor": 0,
  "metadata": {
    "colab": {
      "provenance": []
    },
    "kernelspec": {
      "name": "python3",
      "display_name": "Python 3"
    },
    "language_info": {
      "name": "python"
    }
  },
  "cells": [
    {
      "cell_type": "markdown",
      "source": [
        "### 268. Missing Number"
      ],
      "metadata": {
        "id": "MQH9EJRBapRx"
      }
    },
    {
      "cell_type": "markdown",
      "source": [
        "\n",
        "\n",
        "Given an array nums containing n distinct numbers in the range [0, n], return the only number in the range that is missing from the array."
      ],
      "metadata": {
        "id": "KPyajZ5gbhBB"
      }
    },
    {
      "cell_type": "code",
      "source": [
        "class Solution:\n",
        "    def missingNumber(self, nums: List[int]) -> int:\n",
        "        res = 0\n",
        "        max_num = len(nums)\n",
        "        new = list(range(0, max_num))\n",
        "        for i in new:\n",
        "            if i not in nums:\n",
        "                return i\n",
        "            if max_num == len(nums) and max_num not in nums:\n",
        "                return max_num\n",
        ""
      ],
      "metadata": {
        "id": "VNDoJa87Xzsx"
      },
      "execution_count": null,
      "outputs": []
    }
  ]
}